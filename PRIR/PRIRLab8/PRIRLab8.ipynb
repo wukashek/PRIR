{
  "cells": [
    {
      "cell_type": "markdown",
      "metadata": {
        "id": "o5sFUmfLVIdh"
      },
      "source": [
        "#  *MANDELBROT* "
      ]
    },
    {
      "cell_type": "markdown",
      "metadata": {
        "id": "BeSLsI4wCgkJ"
      },
      "source": [
        "## Zadanie 2p\n",
        " 1. Dokonaj przekształcenia plików z wygenerowanymi fraktalami do postaci plików graficznych,\n",
        " które wyświetlisz.\n",
        " 2. Przedstaw na wykresach porównanie czasów wykonania programów na GPU (Colab) oraz\n",
        " CPU (Colab oraz komputer stacjonarny) w zależności od rozmiaru problemu (stała DIM). W\n",
        " optymalnym przypadku wykresy powinny zostać zrealizowane z matplotlib i dołączone do\n",
        " Colab.\n",
        " 3. Punkty 1,2 zrealizuj dla fraktala Mandelbrota.\n",
        " 4. Zrealizuj pracę w postaci sprawozdania w Google Colab – dokonaj także opisu programów i\n",
        " zrealizowanych czynności – ma to mieć postać tutoriala dla osoby, która nie na związku z\n",
        " przedmiotem"
      ]
    },
    {
      "cell_type": "code",
      "execution_count": 6,
      "metadata": {
        "colab": {
          "base_uri": "https://localhost:8080/"
        },
        "id": "lyIg1tSOD4ct",
        "outputId": "d6d1c080-b848-4663-e2ae-601e5e40b3a5"
      },
      "outputs": [
        {
          "output_type": "stream",
          "name": "stdout",
          "text": [
            "nvcc: NVIDIA (R) Cuda compiler driver\n",
            "Copyright (c) 2005-2021 NVIDIA Corporation\n",
            "Built on Sun_Feb_14_21:12:58_PST_2021\n",
            "Cuda compilation tools, release 11.2, V11.2.152\n",
            "Build cuda_11.2.r11.2/compiler.29618528_0\n",
            "Looking in indexes: https://pypi.org/simple, https://us-python.pkg.dev/colab-wheels/public/simple/\n",
            "Collecting git+https://github.com/andreinechaev/nvcc4jupyter.git\n",
            "  Cloning https://github.com/andreinechaev/nvcc4jupyter.git to /tmp/pip-req-build-r9zuk9zf\n",
            "  Running command git clone --filter=blob:none --quiet https://github.com/andreinechaev/nvcc4jupyter.git /tmp/pip-req-build-r9zuk9zf\n",
            "  Resolved https://github.com/andreinechaev/nvcc4jupyter.git to commit aac710a35f52bb78ab34d2e52517237941399eff\n",
            "  Preparing metadata (setup.py) ... \u001b[?25l\u001b[?25hdone\n",
            "The nvcc_plugin extension is already loaded. To reload it, use:\n",
            "  %reload_ext nvcc_plugin\n"
          ]
        }
      ],
      "source": [
        "!nvcc --version\n",
        "!pip install git+https://github.com/andreinechaev/nvcc4jupyter.git\n",
        "%load_ext nvcc_plugin"
      ]
    },
    {
      "cell_type": "markdown",
      "metadata": {
        "id": "vmRsPQGEEC7D"
      },
      "source": [
        "\n",
        " # Na CPU\n"
      ]
    },
    {
      "cell_type": "markdown",
      "metadata": {
        "id": "kD-71NW7ehdO"
      },
      "source": [
        "#opis programu\n",
        "\n",
        " \n",
        " Struktura \"cuComplex\" do przechowywania liczb zespolonych: Ta struktura jest używana do reprezentacji liczb zespolonych i zawiera składowe rzeczywistą i urojoną. Struktura zawiera również kilka funkcji takie jak \"magnitude2\", \"operator *\" i \"operator +\", które są używane do obliczania wartości liczby zespolonej.\n",
        "\n",
        "Funkcja \"mandelbrot2\": Ta funkcja jest głównym algorytmem generującym fraktal. Funkcja ta przyjmuje argumenty \"x\" i \"y\" wskazujące położenie punktu na płaszczyźnie liczb zespolonych. Algorytm iteruje po liczbie zespolonej zgodnie z regułami zbioru Mandelbrota i zwraca wartość 1, jeśli liczba zespolona należy do zbioru, lub 0 w przeciwnym przypadku.\n",
        "\n",
        "Funkcja \"kernel\": Ta funkcja jest wykonywana dla każdego punktu na płaszczyźnie liczb zespolonych. Dla każdego punktu funkcja wywołuje funkcję \"mandelbrot2\", aby sprawdzić, czy punkt należy do zbioru Mandelbrota. Wartość ta jest następnie używana do ustawienia koloru dla punktu na bitmapie.\n",
        "\n",
        "Funkcja \"save_to_file\": Ta funkcja zapisuje bitmapę do pliku o nazwie \"MandelCPU.ppm\" w formacie PPM.\n",
        "\n",
        "Funkcja \"main\": Ta funkcja jest główną funkcją programu i odpowiada za inicjalizację danych, wywołanie funkcji \"kernel\" i zapis do pliku. Czas wykonywania kodu jest również mierzony i wyświetlany na ekranie."
      ]
    },
    {
      "cell_type": "code",
      "execution_count": 7,
      "metadata": {
        "colab": {
          "base_uri": "https://localhost:8080/"
        },
        "id": "2dD2_3F_ETQ4",
        "outputId": "a70942a7-559c-49d5-aa73-a21c0d8cd71d"
      },
      "outputs": [
        {
          "output_type": "stream",
          "name": "stdout",
          "text": [
            "milliseconds 6514.253000 \n",
            "6 seconds\n",
            "\n"
          ]
        }
      ],
      "source": [
        "%%cu\n",
        "#include<stdio.h>\n",
        "#include <time.h>\n",
        "#define DIM 2000\n",
        "\n",
        "\n",
        "\n",
        "\n",
        "struct cuComplex {\n",
        "    float   r;\n",
        "    float   i;\n",
        "    cuComplex( float a, float b ) : r(a), i(b)  {}\n",
        "    float magnitude2( void ) { return r * r + i * i; }\n",
        "    cuComplex operator*(const cuComplex& a) {\n",
        "        return cuComplex(r*a.r - i*a.i, i*a.r + r*a.i);\n",
        "    }\n",
        "    cuComplex operator+(const cuComplex& a) {\n",
        "        return cuComplex(r+a.r, i+a.i);\n",
        "    }\n",
        "};\n",
        "\n",
        "\n",
        "\n",
        "int mandelbrot2(double x, double y) {\n",
        "    const float scale = 1.5;\n",
        "    float jx = scale * (float)(DIM/2 - x)/(DIM/2);\n",
        "    float jy = scale * (float)(DIM/2 - y)/(DIM/2);\n",
        "    cuComplex c(jx, jy);\n",
        "    cuComplex z(0, 0);\n",
        "    for (int i = 0; i < 200; i++) {\n",
        "    z = z * z + c;\n",
        "      if (z.magnitude2() > 1000) {\n",
        "        return 0;\n",
        "    }\n",
        "  }\n",
        "  return 1;\n",
        "}\n",
        "\n",
        "\n",
        "void kernel( unsigned char *ptr ){\n",
        "    for (int y=0; y<DIM; y++) {\n",
        "        for (int x=0; x<DIM; x++) {\n",
        "            int offset = x + y * DIM;\n",
        "            int mandelbrotValue = mandelbrot2( x, y );\n",
        "            ptr[offset*4 + 0] = 19;\n",
        "            ptr[offset*4 + 1] = 255 * mandelbrotValue ;\n",
        "            ptr[offset*4 + 2] = 72;\n",
        "            ptr[offset*4 + 3] = 200;\n",
        "        }\n",
        "    }\n",
        " }\n",
        "\n",
        "struct DataBlock{\n",
        "    unsigned char *dev_bitmap; \n",
        "};\n",
        "\n",
        "void save_to_file(unsigned char *ptr){\n",
        "  FILE *fp=fopen(\"MandelCPU.ppm\",\"w\");\n",
        "  fprintf(fp,\"P3\\n%d %d\\n255\\n\", DIM, DIM);\n",
        "  for(int y=0;y<DIM;y++){\n",
        "    for(int x=0;x<DIM;x++){\n",
        "      int offset=x+y*DIM;\n",
        "      fprintf(fp,\"\\n%d %d %d\", ptr[offset*4+0], ptr[offset*4+1], ptr[offset*4+2]);\n",
        "    }\n",
        "  }\n",
        "  fclose(fp);\n",
        "}\n",
        "\n",
        "\n",
        "int main( void ) {\n",
        "       clock_t start_time = clock();\n",
        "\n",
        "    DataBlock data ; \n",
        "    unsigned char *bitmap = (unsigned char*)malloc(DIM*DIM*4*sizeof(unsigned char));\n",
        "    int image_size = DIM * DIM * 4 ;\n",
        "    kernel(bitmap);\n",
        "    save_to_file(bitmap);\n",
        "    // Record the end time\n",
        "    clock_t end_time = clock();\n",
        "\n",
        "    // Calculate the elapsed time in milliseconds\n",
        "    double elapsed_time = (double)(end_time - start_time) / CLOCKS_PER_SEC * 1000;\n",
        "\n",
        "    printf(\"milliseconds %f \\n\", elapsed_time);\n",
        "    long milliseconds = elapsed_time ; \n",
        "    // Convert the milliseconds to seconds\n",
        "    long seconds = milliseconds / 1000.0;\n",
        "    // Print the result\n",
        "    printf(\"%d seconds\\n\",  seconds);\n",
        "\n",
        "\n",
        "    return 0;\n",
        "\n",
        "}"
      ]
    },
    {
      "cell_type": "markdown",
      "metadata": {
        "id": "xxC9qnCmMKGA"
      },
      "source": [
        "# Na GPU"
      ]
    },
    {
      "cell_type": "code",
      "execution_count": 8,
      "metadata": {
        "colab": {
          "base_uri": "https://localhost:8080/"
        },
        "id": "JuqYO0NBMLUc",
        "outputId": "d32c24dc-7a56-4f8e-c3f7-3b0b80b3aac6"
      },
      "outputs": [
        {
          "output_type": "stream",
          "name": "stdout",
          "text": [
            "Elapsed time: 708.795471 milliseconds\n",
            "\n"
          ]
        }
      ],
      "source": [
        "%%cu\n",
        "#include<stdio.h>\n",
        "#define DIM 2000\n",
        "#include <cuda_runtime.h>\n",
        "\n",
        "struct cuComplex {\n",
        "    float   r;\n",
        "    float   i;\n",
        "    // cuComplex( float a, float b ) : r(a), i(b)  {}\n",
        "    __device__ cuComplex( float a, float b ) : r(a), i(b) {} // Fix error for calling host function from device\n",
        "    __device__ float magnitude2( void ) {\n",
        "        return r * r + i * i;\n",
        "    }\n",
        "    __device__ cuComplex operator*(const cuComplex& a) {\n",
        "        return cuComplex(r*a.r - i*a.i, i*a.r + r*a.i);\n",
        "    }\n",
        "    __device__ cuComplex operator+(const cuComplex& a) {\n",
        "        return cuComplex(r+a.r, i+a.i);\n",
        "    }\n",
        "};\n",
        "\n",
        "\n",
        "__device__ int mandelbrot2(double x, double y) {\n",
        "    const float scale = 1.5;\n",
        "    float jx = scale * (float)(DIM/2 - x)/(DIM/2);\n",
        "    float jy = scale * (float)(DIM/2 - y)/(DIM/2);\n",
        "    cuComplex c(jx, jy);\n",
        "    cuComplex z(0, 0);\n",
        "    for (int i = 0; i < 200; i++) {\n",
        "    z = z * z + c;\n",
        "      if (z.magnitude2() > 1000) {\n",
        "        return 0;\n",
        "    }\n",
        "  }\n",
        "  return 1;\n",
        "}\n",
        "\n",
        "\n",
        "__global__ void kernel( unsigned char *ptr ) {\n",
        "    // map from blockIdx to pixel position\n",
        "    int x = blockIdx.x;\n",
        "    int y = blockIdx.y;\n",
        "    int offset = x + y * gridDim.x;\n",
        "\n",
        "    // now calculate the value at that position\n",
        "    int man =  mandelbrot2( x, y );\n",
        "    ptr[offset*4 + 0] = 150;\n",
        "    ptr[offset*4 + 1] = 220;\n",
        "    ptr[offset*4 + 2] = 177 * man;\n",
        "    ptr[offset*4 + 3] = 12;\n",
        "}\n",
        "\n",
        "// globals needed by the update routine\n",
        "struct DataBlock {\n",
        "    unsigned char   *dev_bitmap;\n",
        "};\n",
        "\n",
        "\n",
        "\n",
        "void save_to_file(unsigned char *ptr){\n",
        "  FILE *fp=fopen(\"MandelGPU.ppm\",\"w\");\n",
        "  fprintf(fp,\"P3\\n%d %d\\n255\\n\", DIM, DIM);\n",
        "  for(int y=0;y<DIM;y++){\n",
        "    for(int x=0;x<DIM;x++){\n",
        "      int offset=x+y*DIM;\n",
        "      fprintf(fp,\"\\n%d %d %d\", ptr[offset*4+0], ptr[offset*4+1], ptr[offset*4+2]);\n",
        "    }\n",
        "  }\n",
        "  fclose(fp);\n",
        "}\n",
        "\n",
        "int main( void ) {\n",
        "    // Create the start and end events\n",
        "    cudaEvent_t start, end;\n",
        "    cudaEventCreate(&start);\n",
        "    cudaEventCreate(&end);\n",
        "\n",
        "    // Record the start time\n",
        "    cudaEventRecord(start, 0);\n",
        "\n",
        "    \n",
        "    DataBlock data ; \n",
        "    unsigned char *bitmap = (unsigned char*)malloc(DIM*DIM*4*sizeof(unsigned char));\n",
        "    int image_size = DIM * DIM * 4 ;\n",
        "    unsigned char *dev_bitmap;\n",
        "    cudaMalloc((void**)&dev_bitmap,image_size);\n",
        "    data.dev_bitmap = dev_bitmap ;\n",
        "    dim3 grid(DIM,DIM);\n",
        "    kernel<<<grid,1>>>(dev_bitmap);\n",
        "    cudaMemcpy(bitmap,dev_bitmap,image_size,cudaMemcpyDeviceToHost) ;   \n",
        "    cudaFree(dev_bitmap);\n",
        "    save_to_file(bitmap);\n",
        "       // Record the end time\n",
        "    cudaEventRecord(end, 0);\n",
        "\n",
        "    // Synchronize the stream to wait for the kernel to finish\n",
        "    cudaEventSynchronize(end);\n",
        "\n",
        "    // Calculate the elapsed time\n",
        "    float elapsed_time;\n",
        "    cudaEventElapsedTime(&elapsed_time, start, end);\n",
        "\n",
        "    // Print the elapsed time in milliseconds\n",
        "    printf(\"Elapsed time: %f milliseconds\\n\", elapsed_time);\n",
        "\n",
        "    // Destroy the events\n",
        "    cudaEventDestroy(start);\n",
        "    cudaEventDestroy(end);\n",
        "\n",
        "\n",
        "}"
      ]
    },
    {
      "cell_type": "markdown",
      "metadata": {
        "id": "UE9MEt--OdLM"
      },
      "source": [
        "# wykres\n",
        "\n",
        " Tworzy wykres porównujący czas wykonywania operacji na procesorze (CPU) i na karcie graficznej (GPU) w zależności od rozmiaru danych (DIM). Kolor niebieski oznacz CPU, czerwony GPU\n",
        "\n",
        "\n",
        "\n"
      ]
    },
    {
      "cell_type": "code",
      "execution_count": 9,
      "metadata": {
        "colab": {
          "base_uri": "https://localhost:8080/",
          "height": 295
        },
        "id": "QXIkO6M6OgGC",
        "outputId": "f701b148-90a6-4e37-db39-54ec9336878e"
      },
      "outputs": [
        {
          "output_type": "display_data",
          "data": {
            "text/plain": [
              "<Figure size 432x288 with 1 Axes>"
            ],
            "image/png": "[encoded data removed]"
          },
          "metadata": {
            "needs_background": "light"
          }
        }
      ],
      "source": [
        "import matplotlib.pyplot as plt\n",
        "\n",
        "# dodanie do tablic wartosci time i dim  \n",
        "time_ms_cpu = [ 525.729000 , 962.112000  , 1438.720000   , 2086.150000  , 2963.573000 , 3731.129000  , 4805.774000  , 5761.879000 ]\n",
        "dim_cpu = [600 , 800 , 1000 , 1200 , 1400 , 1600 , 1800 , 2000  ]\n",
        "\n",
        "time_ms_GPU = [ 59.203777  ,105.271072   ,163.239304 ,223.393799  ,309.888153  ,417.935242  ,545.383118   ,634.012207 ]\n",
        "dim_GPU = [600 , 800 , 1000 , 1200 , 1400 , 1600 , 1800 , 2000]\n",
        "\n",
        "# stowrzenie wykresu funkcja plot\n",
        "plt.plot(time_ms_cpu, dim_cpu, color='blue', label='CPU')\n",
        "plt.plot(time_ms_GPU ,dim_GPU  , color='red' , label='GPU' )\n",
        "\n",
        "# tytyl , os x i y \n",
        "plt.xlabel('Time (milliseconds)')\n",
        "plt.ylabel('DIM')\n",
        "plt.title('DIM over Time')\n",
        "\n",
        "# pokaz wykres \n",
        "plt.show()"
      ]
    }
  ],
  "metadata": {
    "accelerator": "GPU",
    "colab": {
      "provenance": []
    },
    "gpuClass": "standard",
    "kernelspec": {
      "display_name": "Python 3",
      "language": "python",
      "name": "python3"
    },
    "language_info": {
      "name": "python",
      "version": "3.10.8 (main, Nov  6 2022, 23:27:16)  [GCC 12.2.0 64 bit (AMD64)]"
    },
    "vscode": {
      "interpreter": {
        "hash": "2a8dfe095fce2b5e88c64a2c3ee084c8e0e0d70b23e7b95b1cfb538be294c5c8"
      }
    }
  },
  "nbformat": 4,
  "nbformat_minor": 0
}