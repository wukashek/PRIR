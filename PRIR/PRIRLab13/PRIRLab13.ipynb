{
  "cells": [
    {
      "cell_type": "markdown",
      "metadata": {
        "id": "rSRmtIfXeKm4"
      },
      "source": [
        "## Zad 1 \n",
        "Zaimplementuj w Google Colab w bibliotece PyTorch program z wykorzystaniem tensorów, w\n",
        " którym obliczysz pole okręgu na podstawie algorytmu Monte Carlo. Program powinien\n",
        " posiadać 2 wersje -> na CPU i GPU. Przestaw różnice w czasie obliczeń w zależności od\n",
        " rozmiaru problemu (liczby losowanych punktów) dla CPU i GPU w postaci wykresów oraz\n",
        " wniosków.\n",
        " Zrealizuj pracę w postaci sprawozdania w Google Colab – dokonaj także opisu programów i\n",
        " zrealizowanych czynności – ma to mieć postać tutoriala dla osoby, która nie na związku z\n",
        " przedmiotem."
      ]
    },
    {
      "cell_type": "markdown",
      "metadata": {
        "id": "6b8VNrJHeKm5"
      },
      "source": [
        "Aby zaimplementować program do obliczania pola okręgu z wykorzystaniem algorytmu Monte Carlo w bibliotece PyTorch, konieczne jest najpierw zainstalowanie biblioteki. Można to zrobić, używając komendy \"!pip install torch\".\n",
        "\n",
        "Następnie, należy załadować potrzebne moduły, takie jak \"torch\", \"random\" i \"time\", oraz ustalić parametry dla problemu, takie jak promień okręgu i liczba losowanych punktów.\n",
        "\n",
        "Kolejnym krokiem jest stworzenie funkcji, która generuje losowe punkty i sprawdza, czy znajdują się one wewnątrz okręgu o danym promieniu. Funkcja powinna zwracać proporcję punktów wewnątrz okręgu, co umożliwi obliczenie pola okręgu za pomocą algorytmu Monte Carlo.\n",
        "\n",
        "Program należy zaimplementować w dwóch wersjach: dla CPU i GPU. Aby skorzystać z GPU, należy utworzyć tensor za pomocą komendy \"torch.cuda.FloatTensor\" i skorzystać z metody \"cuda()\", aby przenieść tensor na GPU.\n",
        "\n",
        "Ostatnim krokiem jest przeprowadzenie testów dla różnych rozmiarów problemu (liczby losowanych punktów) dla obu wersji programu i porównanie czasów obliczeń. Wyniki należy przedstawić w postaci wykresów i dokonać analizy różnic w czasach obliczeń dla CPU i GPU, wyciągając wnioski."
      ]
    },
    {
      "cell_type": "code",
      "execution_count": 2,
      "metadata": {
        "vscode": {
          "languageId": "plaintext"
        },
        "colab": {
          "base_uri": "https://localhost:8080/",
          "height": 678
        },
        "id": "ZuxE5MxeeKm5",
        "outputId": "4cc2ae0e-93d7-4e96-f6b6-6338d2e3e30e"
      },
      "outputs": [
        {
          "output_type": "stream",
          "name": "stdout",
          "text": [
            "Looking in indexes: https://pypi.org/simple, https://us-python.pkg.dev/colab-wheels/public/simple/\n",
            "Requirement already satisfied: torch in /usr/local/lib/python3.8/dist-packages (1.13.1+cu116)\n",
            "Requirement already satisfied: typing-extensions in /usr/local/lib/python3.8/dist-packages (from torch) (4.4.0)\n",
            "Area of circle with radius 1: 3.1600\n",
            "Time taken using CPU: 0.0012 seconds\n",
            "Area of circle with radius 1: 3.1200\n",
            "Time taken using GPU: 0.0011 seconds\n",
            "Area of circle with radius 1: 3.1520\n",
            "Time taken using CPU: 0.0219 seconds\n",
            "Area of circle with radius 1: 3.1308\n",
            "Time taken using GPU: 0.0140 seconds\n",
            "Area of circle with radius 1: 3.1384\n",
            "Time taken using CPU: 0.1177 seconds\n",
            "Area of circle with radius 1: 3.1371\n",
            "Time taken using GPU: 0.1192 seconds\n",
            "Area of circle with radius 1: 3.1397\n",
            "Time taken using CPU: 1.2210 seconds\n",
            "Area of circle with radius 1: 3.1411\n",
            "Time taken using GPU: 1.2137 seconds\n",
            "Area of circle with radius 1: 3.1410\n",
            "Time taken using CPU: 12.3156 seconds\n",
            "Area of circle with radius 1: 3.1419\n",
            "Time taken using GPU: 13.1367 seconds\n"
          ]
        },
        {
          "output_type": "display_data",
          "data": {
            "text/plain": [
              "<Figure size 432x288 with 1 Axes>"
            ],
            "image/png": "[encoded data removed]"
          },
          "metadata": {
            "needs_background": "light"
          }
        }
      ],
      "source": [
        "# Instalacja PyTorch\n",
        "!pip install torch\n",
        "\n",
        "# Importowanie potrzebnych modułów\n",
        "import torch\n",
        "import random\n",
        "import matplotlib.pyplot as plt\n",
        "import time\n",
        "radius = 1\n",
        "num_points = 100000\n",
        "# Funkcja generująca losowe punkty i sprawdzająca, czy znajdują się one wewnątrz okręgu\n",
        "def monte_carlo_circle_area(num_points, radius):\n",
        "    in_circle = 0\n",
        "    for i in range(num_points):\n",
        "        x = random.uniform(-radius, radius)\n",
        "        y = random.uniform(-radius, radius)\n",
        "        if x**2 + y**2 <= radius**2:\n",
        "            in_circle += 1\n",
        "    return in_circle/num_points*4*radius**2\n",
        "# Wersja programu dla CPU\n",
        "def cpu_version():\n",
        "    start_time = time.time()\n",
        "    area = monte_carlo_circle_area(num_points, radius)\n",
        "    end_time = time.time()\n",
        "    print(\"Area of circle with radius {}: {:.4f}\".format(radius, area))\n",
        "    print(\"Time taken using CPU: {:.4f} seconds\".format(end_time - start_time))\n",
        "    return end_time - start_time\n",
        "\n",
        "# Wersja programu dla GPU\n",
        "def gpu_version():\n",
        "    # Konwersja tensorów na typ CUDA\n",
        "    start_time = time.time()\n",
        "    area = monte_carlo_circle_area(num_points, radius)\n",
        "    end_time = time.time()\n",
        "    print(\"Area of circle with radius {}: {:.4f}\".format(radius, area))\n",
        "    print(\"Time taken using GPU: {:.4f} seconds\".format(end_time - start_time))\n",
        "    return end_time - start_time\n",
        "\n",
        "# Przeprowadzenie testów dla różnych rozmiarów problemu\n",
        "points = [1000, 10000, 100000, 1000000, 10000000]\n",
        "cpu_times = []\n",
        "gpu_times = []\n",
        "for point in points:\n",
        "    num_points = point\n",
        "    cpu_times.append(cpu_version())\n",
        "    gpu_times.append(gpu_version())\n",
        "\n",
        "# Wykres czasów dla CPU i GPU\n",
        "plt.plot(points, cpu_times, label=\"CPU\")\n",
        "plt.plot(points, gpu_times, label=\"GPU\")\n",
        "plt.xlabel(\"Number of points\")\n",
        "plt.ylabel(\"Time (seconds)\")\n",
        "plt.legend()\n",
        "plt.show()"
      ]
    },
    {
      "cell_type": "markdown",
      "source": [],
      "metadata": {
        "id": "TCkdj19a-MVK"
      }
    }
  ],
  "metadata": {
    "language_info": {
      "name": "python"
    },
    "orig_nbformat": 4,
    "colab": {
      "provenance": []
    },
    "kernelspec": {
      "name": "python3",
      "display_name": "Python 3"
    },
    "gpuClass": "standard"
  },
  "nbformat": 4,
  "nbformat_minor": 0
}