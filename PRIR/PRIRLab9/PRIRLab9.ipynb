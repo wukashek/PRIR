{
  "cells": [
    {
      "cell_type": "markdown",
      "metadata": {
        "id": "iW5_OZriXx8E"
      },
      "source": [
        "# ZADANIE\n",
        "1. Dokonaj przekształcenia plików z wygenerowaną sceną 3D do postaci plików graficznych,\n",
        "które wyświetlisz.\n",
        "2. Przedstaw na wykresach porównanie czasów wykonania programów na GPU (Colab) oraz\n",
        "CPU (Colab oraz komputer stacjonarny, kod należy napisać na podstawie dostępnej wersji\n",
        "programu na GPU) w zależności od rozmiaru problemu (stała DIM). W optymalnym\n",
        "przypadku wykresy powinny zostać wyświetlone z matplotlib bezpośrednio w Colab.\n",
        "3. Zrealizuj pracę w postaci sprawozdania w Google Colab – dokonaj także opisu programów i\n",
        "zrealizowanych czynności – ma to mieć postać tutoriala dla osoby, która nie na  związku z\n",
        "przedmiotem"
      ]
    },
    {
      "cell_type": "code",
      "execution_count": 10,
      "metadata": {
        "colab": {
          "base_uri": "https://localhost:8080/"
        },
        "id": "GB1ptMDVXY8N",
        "outputId": "0b5055db-d729-4cc2-a446-feaff5884f18"
      },
      "outputs": [
        {
          "output_type": "stream",
          "name": "stdout",
          "text": [
            "nvcc: NVIDIA (R) Cuda compiler driver\n",
            "Copyright (c) 2005-2021 NVIDIA Corporation\n",
            "Built on Sun_Feb_14_21:12:58_PST_2021\n",
            "Cuda compilation tools, release 11.2, V11.2.152\n",
            "Build cuda_11.2.r11.2/compiler.29618528_0\n",
            "Looking in indexes: https://pypi.org/simple, https://us-python.pkg.dev/colab-wheels/public/simple/\n",
            "Collecting git+https://github.com/andreinechaev/nvcc4jupyter.git\n",
            "  Cloning https://github.com/andreinechaev/nvcc4jupyter.git to /tmp/pip-req-build-fdxscav_\n",
            "  Running command git clone --filter=blob:none --quiet https://github.com/andreinechaev/nvcc4jupyter.git /tmp/pip-req-build-fdxscav_\n",
            "  Resolved https://github.com/andreinechaev/nvcc4jupyter.git to commit aac710a35f52bb78ab34d2e52517237941399eff\n",
            "  Preparing metadata (setup.py) ... \u001b[?25l\u001b[?25hdone\n",
            "The nvcc_plugin extension is already loaded. To reload it, use:\n",
            "  %reload_ext nvcc_plugin\n"
          ]
        }
      ],
      "source": [
        "!nvcc --version\n",
        "!pip install git+https://github.com/andreinechaev/nvcc4jupyter.git\n",
        "%load_ext nvcc_plugin"
      ]
    },
    {
      "cell_type": "markdown",
      "metadata": {
        "id": "BUh0o3Jp1y5H"
      },
      "source": [
        "# Opis programu\n",
        "Kod składa się z kilku głównych elementów, w tym deklaracji struktur danych, funkcji jądra CUDA, funkcji pomocniczych i funkcji main. W programie zdefiniowana jest struktura Sphere, która reprezentuje kulę w przestrzeni trójwymiarowej i zawiera informacje o kolorze, położeniu i promieniu kuli. Funkcja hit() jest używana do określenia, czy dany promień światła przecina daną kulę.\n",
        "Głównym jądrem CUDA jest funkcja kernel(), która jest wywoływana dla każdego piksela w obrazie. Jądro mapuje pozycję wątku i bloku do pozycji na ekranie, a następnie dla każdej kuli w tablicy wywołuje funkcję hit(). Jeśli promień przecina daną kulę, to jądro ustawia kolor piksela na odpowiedni kolor kuli. Funkcja save_to_file() służy do zapisywania obrazu do pliku PPM.\n",
        "Funkcja main() jest główną funkcją programu i odpowiada za inicjalizację danych, alokację pamięci na GPU, wykonywanie jądra CUDA i zapisywanie wyniku do pliku.\n",
        "\n",
        "\n",
        "\n",
        "\n",
        " "
      ]
    },
    {
      "cell_type": "code",
      "execution_count": 14,
      "metadata": {
        "colab": {
          "base_uri": "https://localhost:8080/"
        },
        "id": "H2usjP_U8Oc4",
        "outputId": "7ab26b87-abdb-422a-86f6-edbb839413f9"
      },
      "outputs": [
        {
          "output_type": "stream",
          "name": "stdout",
          "text": [
            "Time: 11.304960 ms\n",
            "Time: 11.305 milliseconds\n",
            "\n"
          ]
        }
      ],
      "source": [
        "%%cu\n",
        "#include <stdio.h>\n",
        "#define DIM 6000\n",
        "#define rnd( x ) (x * rand() / RAND_MAX)\n",
        "#define INF     2e10f\n",
        "struct Sphere {\n",
        "    float   r,b,g;\n",
        "    float   radius;\n",
        "    float   x,y,z;\n",
        "    __device__ float hit( float ox, float oy, float *n ) {\n",
        "        float dx = ox - x;\n",
        "        float dy = oy - y;\n",
        "        if (dx*dx + dy*dy < radius*radius) {\n",
        "            float dz = sqrtf( radius*radius - dx*dx - dy*dy );\n",
        "            *n = dz / sqrtf( radius * radius );\n",
        "            return dz + z;\n",
        "        }\n",
        "        return -INF;\n",
        "    }\n",
        "};\n",
        "#define SPHERES 20\n",
        "__global__ void kernel( Sphere *s, unsigned char *ptr ) {\n",
        "    // map from threadIdx/BlockIdx to pixel position\n",
        "    int x = threadIdx.x + blockIdx.x * blockDim.x;\n",
        "    int y = threadIdx.y + blockIdx.y * blockDim.y;\n",
        "    int offset = x + y * blockDim.x * gridDim.x;\n",
        "    float   ox = (x - DIM/2);\n",
        "    float   oy = (y - DIM/2);\n",
        "\n",
        "    float   r=0, g=0, b=0;\n",
        "    float   maxz = -INF;\n",
        "    for(int i=0; i<SPHERES; i++) {\n",
        "        float   n;\n",
        "        float   t = s[i].hit( ox, oy, &n );\n",
        "        if (t > maxz) {\n",
        "            float fscale = n;\n",
        "            r = s[i].r * fscale;\n",
        "            g = s[i].g * fscale;\n",
        "            b = s[i].b * fscale;\n",
        "            maxz = t;\n",
        "        }\n",
        "    } \n",
        "    ptr[offset*4 + 0] = (int)(r * 255);\n",
        "    ptr[offset*4 + 1] = (int)(g * 255);\n",
        "    ptr[offset*4 + 2] = (int)(b * 255);\n",
        "    ptr[offset*4 + 3] = 255;\n",
        "}\n",
        "struct DataBlock{\n",
        "    unsigned char *dev_bitmap;\n",
        "};\n",
        "void save_to_file(unsigned char *ptr){\n",
        "  FILE *fp=fopen(\"RayTracingGPU.ppm\",\"w\");\n",
        "  fprintf(fp,\"P3\\n%d %d\\n255\\n\", DIM, DIM);\n",
        "  for(int y=0;y<DIM;y++){\n",
        "    for(int x=0;x<DIM;x++){\n",
        "      int offset=x+y*DIM;\n",
        "      fprintf(fp,\"\\n%d %d %d\", ptr[offset*4+0], ptr[offset*4+1], ptr[offset*4+2]);\n",
        "    }\n",
        "  }\n",
        "  fclose(fp);\n",
        "}\n",
        "int main(void) {\n",
        "  // capture the start time \n",
        "  // capture the start time \n",
        "  cudaEvent_t start, stop;\n",
        "  cudaEventCreate( &start );\n",
        "  cudaEventCreate( &stop);\n",
        "  DataBlock data;\n",
        "  unsigned char *bitmap = (unsigned char*)malloc(DIM* DIM*4* sizeof(unsigned char));\n",
        "  int image_size = DIM* DIM*4;\n",
        "  unsigned char *dev_bitmap;\n",
        "  cudaMalloc((void**)&dev_bitmap, image_size); \n",
        "  data.dev_bitmap=dev_bitmap;\n",
        "  Sphere *s;\n",
        "// allocate memory for the Sphere dataset\n",
        "cudaMalloc((void**)&s, sizeof(Sphere)* SPHERES );\n",
        "// allocate temp memory, initialize it, copy to\n",
        "// memory on the GPU, then free our temp memory\n",
        "Sphere *temp_s = (Sphere*)malloc(sizeof(Sphere)* SPHERES );\n",
        "\n",
        "for (int i=0; i<SPHERES; i++) {\n",
        "     temp_s[i].r = rnd( 1.0f);\n",
        "     temp_s[i].g= rnd( 1.0f);\n",
        "     temp_s[1].b= rnd( 1.0f);\n",
        "     temp_s[i].x =rnd( 1000.0f)- 500;\n",
        "     temp_s[i].y =rnd( 1000.0f) - 500;\n",
        "     temp_s[1].z = rnd( 1000.0f) - 500;\n",
        "     temp_s[i].radius = rnd( 100.0f) + 20;\n",
        "     cudaMemcpy( s, temp_s, sizeof(Sphere)* SPHERES, cudaMemcpyHostToDevice);\n",
        "     free( temp_s);\n",
        "}\n",
        "dim3 block(16, 16);\n",
        "dim3 grid((DIM + block.x - 1) / block.x, (DIM + block.y - 1) / block.y);\n",
        "// capture the start time \n",
        "cudaEventRecord( start, 0);\n",
        "// execute the kernel\n",
        "kernel<<<grid, block>>>(s, dev_bitmap);\n",
        "// capture the stop time\n",
        "cudaEventRecord( stop, 0);\n",
        "cudaEventSynchronize(stop);\n",
        "float elapsedTime;\n",
        "cudaEventElapsedTime(&elapsedTime, start, stop);\n",
        "cudaMemcpy( bitmap, dev_bitmap, image_size, cudaMemcpyDeviceToHost);\n",
        "printf(\"Time: %f ms\\n\", elapsedTime);\n",
        "float elapsed_time;\n",
        "cudaEventElapsedTime(&elapsed_time, start, stop);\n",
        "printf(\"Time: %.3f milliseconds\\n\", elapsed_time);\n",
        "save_to_file(bitmap);\n",
        "}"
      ]
    },
    {
      "cell_type": "code",
      "execution_count": 15,
      "metadata": {
        "colab": {
          "base_uri": "https://localhost:8080/"
        },
        "id": "U7-eUBvR-v79",
        "outputId": "6f972fc7-1f88-4a33-932c-995215e30a7a"
      },
      "outputs": [
        {
          "output_type": "stream",
          "name": "stdout",
          "text": [
            "Time: 6.5278940 seconds\n",
            "Time: 6527.894 milliseconds\n",
            "\n"
          ]
        }
      ],
      "source": [
        "%%cu\n",
        "#include <stdio.h>\n",
        "#define DIM 6000\n",
        "#define rnd( x ) (x * rand() / RAND_MAX)\n",
        "#define INF     2e10f\n",
        "\n",
        "struct Sphere {\n",
        "    float   r,b,g;\n",
        "    float   radius;\n",
        "    float   x,y,z;\n",
        "    float hit( float ox, float oy, float *n ) {\n",
        "        float dx = ox - x;\n",
        "        float dy = oy - y;\n",
        "        if (dx*dx + dy*dy < radius*radius) {\n",
        "            float dz = sqrtf( radius*radius - dx*dx - dy*dy );\n",
        "            *n = dz / sqrtf( radius * radius );\n",
        "            return dz + z;\n",
        "        }\n",
        "        return -INF;\n",
        "    }\n",
        "};\n",
        "#define SPHERES 20\n",
        "void kernel(Sphere *s, unsigned char *ptr) {\n",
        "  for (int y = 0; y < DIM; y++) {\n",
        "    for (int x = 0; x < DIM; x++) {\n",
        "      int offset = x + y * DIM;\n",
        "      float ox = (x - DIM / 2);\n",
        "      float oy = (y - DIM / 2);\n",
        "\n",
        "      float r = 0, g = 0, b = 0;\n",
        "      float maxz = -INF;\n",
        "      for (int i = 0; i < SPHERES; i++) {\n",
        "        float n;\n",
        "        float t = s[i].hit(ox, oy, &n);\n",
        "        if (t > maxz) {\n",
        "          float fscale = n;\n",
        "          r = s[i].r * fscale;\n",
        "          g = s[i].g * fscale;\n",
        "          b = s[i].b * fscale;\n",
        "          maxz = t;\n",
        "        }\n",
        "      }\n",
        "      ptr[offset * 4 + 0] = (int)(r * 255);\n",
        "      ptr[offset * 4 + 1] = (int)(g * 255);\n",
        "      ptr[offset * 4 + 2] = (int)(b * 255);\n",
        "      ptr[offset * 4 + 3] = 255;\n",
        "    }\n",
        "  }\n",
        "}\n",
        "struct DataBlock{\n",
        "    unsigned char *dev_bitmap;\n",
        "};\n",
        "void save_to_file(unsigned char *ptr){\n",
        "  FILE *fp=fopen(\"RayTracinggpu.ppm\",\"w\");\n",
        "  fprintf(fp,\"P3\\n%d %d\\n255\\n\", DIM, DIM);\n",
        "  for(int y=0;y<DIM;y++){\n",
        "    for(int x=0;x<DIM;x++){\n",
        "      int offset=x+y*DIM;\n",
        "      fprintf(fp,\"\\n%d %d %d\", ptr[offset*4+0], ptr[offset*4+1], ptr[offset*4+2]);\n",
        "    }\n",
        "  }\n",
        "  fclose(fp);\n",
        "}\n",
        "int main(void) {\n",
        "  // capture the start time \n",
        "  clock_t start, stop;\n",
        "  start = clock();\n",
        "  // allocate memory for the Sphere dataset\n",
        "  Sphere *s = (Sphere*)malloc(sizeof(Sphere)* SPHERES );\n",
        "  unsigned char *bitmap = (unsigned char*)malloc(DIM* DIM*4* sizeof(unsigned char));\n",
        "\n",
        "  // allocate temp memory, initialize it, copy to\n",
        "  // memory on the GPU, then free our temp memory\n",
        "  Sphere *temp_s = (Sphere*)malloc(sizeof(Sphere)* SPHERES );\n",
        "  for (int i=0; i<SPHERES; i++) {\n",
        "   //  temp_s[i].r = rnd( 1.0f);\n",
        "   //  temp_s[i].g= rnd( 1.0f);\n",
        "   //  temp_s[1].b= rnd( 1.0f);\n",
        "   //  temp_s[i].radius= rnd( 30.0f ) + 10.0f;\n",
        "   //  temp_s[i].x= rnd( 100.0f ) - 50.0f;\n",
        "   //  temp_s[i].y= rnd( 100.0f ) - 50.0f;\n",
        "   //  temp_s[i].z= rnd( 100.0f ) - 50.0f;\n",
        "    temp_s[i].r = rnd( 1.0f);\n",
        "     temp_s[i].g= rnd( 1.0f);\n",
        "     temp_s[1].b= rnd( 1.0f);\n",
        "     temp_s[i].x =rnd( 1000.0f)- 500;\n",
        "     temp_s[i].y =rnd( 1000.0f) - 500;\n",
        "     temp_s[1].z = rnd( 1000.0f) - 500;\n",
        "     temp_s[i].radius = rnd( 100.0f) + 20;\n",
        "  }\n",
        "  memcpy(s, temp_s, sizeof(Sphere)* SPHERES );\n",
        "  free(temp_s);\n",
        "  kernel(s, bitmap);\n",
        "  // capture the stop time\n",
        "  stop = clock();\n",
        "  printf(\"Time: %.7f seconds\\n\", ((double)(stop-start))/CLOCKS_PER_SEC);\n",
        " printf(\"Time: %.3f milliseconds\\n\", ((double)(stop-start))/CLOCKS_PER_SEC*1000); \n",
        "  // Save the image to a file\n",
        "  save_to_file(bitmap);\n",
        "  // free the device memory\n",
        "  free(s);\n",
        "  return 0;\n",
        "}"
      ]
    },
    {
      "cell_type": "markdown",
      "metadata": {
        "id": "9n7VEVyJe9VU"
      },
      "source": [
        " Implementacja wykresu pokazyjacego czas wykonania algorytmu na CPU i GPU za pomoca biblioteki matplotlib. Wykres stworzony jest na podstawie danych z poprzednich kodow. Na wykresie GPU jest oznaczone kolorem czerwonym a CPU niebieskim.\n"
      ]
    },
    {
      "cell_type": "code",
      "execution_count": 13,
      "metadata": {
        "colab": {
          "base_uri": "https://localhost:8080/",
          "height": 295
        },
        "id": "RUl_x_mL8Gm8",
        "outputId": "317a451c-8139-4f1d-8b8c-ff8e2df7f0e4"
      },
      "outputs": [
        {
          "output_type": "display_data",
          "data": {
            "text/plain": [
              "<Figure size 432x288 with 1 Axes>"
            ],
            "image/png": "[encoded data removed]"
          },
          "metadata": {
            "needs_background": "light"
          }
        }
      ],
      "source": [
        "import matplotlib.pyplot as plt\n",
        "\n",
        "\n",
        "# dodanie do tablic wartosci time i dim  \n",
        "time_ms_cpu =  [0 , 724.474 ,1536 , 4287,6214.247]\n",
        "dim_cpu = [0 ,2048 , 3000 , 5000 , 6000]\n",
        "\n",
        "time_ms_GPU = [0, 1.37 , 3, 7.888320 , 11.297  ]\n",
        "dim_GPU = [ 0 ,2048 , 3000 , 5000 , 6000 ]\n",
        "\n",
        "# stowrzenie wykresu funkcja plot\n",
        "plt.plot( dim_cpu, time_ms_cpu,color='blue', label='CPU')\n",
        "plt.plot(dim_GPU ,time_ms_GPU  , color='red' , label='GPU' )\n",
        "\n",
        "# tytyl , os x i y \n",
        "plt.xlabel('Time (milliseconds)')\n",
        "plt.ylabel('DIM')\n",
        "plt.title('DIM over Time')\n",
        "\n",
        "# pokaz wykres \n",
        "plt.show()"
      ]
    }
  ],
  "metadata": {
    "accelerator": "GPU",
    "colab": {
      "provenance": []
    },
    "gpuClass": "standard",
    "kernelspec": {
      "display_name": "Python 3",
      "name": "python3"
    },
    "language_info": {
      "name": "python"
    }
  },
  "nbformat": 4,
  "nbformat_minor": 0
}